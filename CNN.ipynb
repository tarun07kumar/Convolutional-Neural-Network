{
  "nbformat": 4,
  "nbformat_minor": 0,
  "metadata": {
    "colab": {
      "provenance": []
    },
    "kernelspec": {
      "name": "python3",
      "display_name": "Python 3"
    },
    "language_info": {
      "name": "python"
    }
  },
  "cells": [
    {
      "cell_type": "markdown",
      "source": [
        "# Image Classification with Deep Learning (using TensorFlow/Keras):"
      ],
      "metadata": {
        "id": "idW5Cqnu_VAE"
      }
    },
    {
      "cell_type": "code",
      "source": [
        "#importing the libraries\n",
        "import numpy as np\n",
        "from tensorflow.keras.datasets import cifar10\n",
        "from tensorflow.keras.models import Sequential\n",
        "from tensorflow.keras.layers import Conv2D, MaxPooling2D, Flatten, Dense\n",
        "from tensorflow.keras.utils import to_categorical"
      ],
      "metadata": {
        "id": "No7VZVbW_iq1"
      },
      "execution_count": 22,
      "outputs": []
    },
    {
      "cell_type": "code",
      "source": [
        "# Load CIFAR-10 dataset\n",
        "(X_train, y_train), (X_test, y_test) = cifar10.load_data()\n",
        "\n",
        "# Normalize pixel values\n",
        "X_train = X_train / 255.0\n",
        "X_test = X_test / 255.0"
      ],
      "metadata": {
        "colab": {
          "base_uri": "https://localhost:8080/"
        },
        "id": "wuOX1Wt1_98H",
        "outputId": "c198450e-4560-4b21-cff6-05e89571b58e"
      },
      "execution_count": 23,
      "outputs": [
        {
          "output_type": "stream",
          "name": "stdout",
          "text": [
            "Downloading data from https://www.cs.toronto.edu/~kriz/cifar-10-python.tar.gz\n",
            "170498071/170498071 [==============================] - 4s 0us/step\n"
          ]
        }
      ]
    },
    {
      "cell_type": "code",
      "source": [
        "# Convert labels to one-hot encoding\n",
        "y_train = to_categorical(y_train, num_classes=10)\n",
        "y_test = to_categorical(y_test, num_classes=10)"
      ],
      "metadata": {
        "id": "oHZYlG7-AHq1"
      },
      "execution_count": 24,
      "outputs": []
    },
    {
      "cell_type": "code",
      "source": [
        "# Build CNN model\n",
        "model = Sequential([\n",
        "    Conv2D(32, (3, 3), activation='relu', input_shape=(32, 32, 3)),\n",
        "    MaxPooling2D((2, 2)),\n",
        "    Conv2D(64, (3, 3), activation='relu'),\n",
        "    MaxPooling2D((2, 2)),\n",
        "    Flatten(),\n",
        "    Dense(128, activation='relu'),\n",
        "    Dense(10, activation='softmax')\n",
        "])\n",
        "\n",
        "# Compile and train the model\n",
        "model.compile(optimizer='adam', loss='categorical_crossentropy', metrics=['accuracy'])\n",
        "model.fit(X_train, y_train, epochs=10, batch_size=64, validation_split=0.2)"
      ],
      "metadata": {
        "colab": {
          "base_uri": "https://localhost:8080/"
        },
        "id": "g5UqATmvAIfn",
        "outputId": "e69c1b3e-7948-4e53-b02b-df1a7f65dfb8"
      },
      "execution_count": 25,
      "outputs": [
        {
          "output_type": "stream",
          "name": "stdout",
          "text": [
            "Epoch 1/10\n",
            "625/625 [==============================] - 60s 94ms/step - loss: 1.5231 - accuracy: 0.4557 - val_loss: 1.2834 - val_accuracy: 0.5555\n",
            "Epoch 2/10\n",
            "625/625 [==============================] - 56s 89ms/step - loss: 1.1739 - accuracy: 0.5893 - val_loss: 1.1374 - val_accuracy: 0.6050\n",
            "Epoch 3/10\n",
            "625/625 [==============================] - 55s 88ms/step - loss: 1.0386 - accuracy: 0.6389 - val_loss: 1.0699 - val_accuracy: 0.6283\n",
            "Epoch 4/10\n",
            "625/625 [==============================] - 56s 89ms/step - loss: 0.9438 - accuracy: 0.6719 - val_loss: 1.0130 - val_accuracy: 0.6470\n",
            "Epoch 5/10\n",
            "625/625 [==============================] - 53s 85ms/step - loss: 0.8653 - accuracy: 0.6970 - val_loss: 0.9679 - val_accuracy: 0.6694\n",
            "Epoch 6/10\n",
            "625/625 [==============================] - 53s 85ms/step - loss: 0.7988 - accuracy: 0.7207 - val_loss: 0.9527 - val_accuracy: 0.6772\n",
            "Epoch 7/10\n",
            "625/625 [==============================] - 55s 89ms/step - loss: 0.7281 - accuracy: 0.7456 - val_loss: 0.9235 - val_accuracy: 0.6927\n",
            "Epoch 8/10\n",
            "625/625 [==============================] - 53s 85ms/step - loss: 0.6644 - accuracy: 0.7686 - val_loss: 0.9429 - val_accuracy: 0.6903\n",
            "Epoch 9/10\n",
            "625/625 [==============================] - 55s 88ms/step - loss: 0.6074 - accuracy: 0.7879 - val_loss: 0.9314 - val_accuracy: 0.6945\n",
            "Epoch 10/10\n",
            "625/625 [==============================] - 55s 88ms/step - loss: 0.5478 - accuracy: 0.8099 - val_loss: 0.9704 - val_accuracy: 0.6959\n"
          ]
        },
        {
          "output_type": "execute_result",
          "data": {
            "text/plain": [
              "<keras.callbacks.History at 0x79cc74c8f820>"
            ]
          },
          "metadata": {},
          "execution_count": 25
        }
      ]
    },
    {
      "cell_type": "code",
      "source": [
        "# Evaluate the model\n",
        "accuracy = model.evaluate(X_test, y_test)[1]\n",
        "print(f\"Test Accuracy: {accuracy:.2f}\")"
      ],
      "metadata": {
        "colab": {
          "base_uri": "https://localhost:8080/"
        },
        "id": "5OllemX4AIob",
        "outputId": "f4386812-0113-49fd-ec83-73352b014ab3"
      },
      "execution_count": 26,
      "outputs": [
        {
          "output_type": "stream",
          "name": "stdout",
          "text": [
            "313/313 [==============================] - 5s 16ms/step - loss: 0.9778 - accuracy: 0.6879\n",
            "Test Accuracy: 0.69\n"
          ]
        }
      ]
    }
  ]
}